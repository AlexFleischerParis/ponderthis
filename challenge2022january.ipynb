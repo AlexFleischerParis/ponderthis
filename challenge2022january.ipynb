{
 "cells": [
  {
   "cell_type": "code",
   "execution_count": 6,
   "metadata": {},
   "outputs": [],
   "source": [
    "# IBM Ponder this challenge January 2022\n",
    "# I used WatsonStudio within IBM CloudPak for Data\n",
    "\n",
    "from sympy import *"
   ]
  },
  {
   "cell_type": "code",
   "execution_count": 7,
   "metadata": {},
   "outputs": [
    {
     "name": "stdout",
     "output_type": "stream",
     "text": [
      "[1, 0, 2, 4, 3]\n",
      "[9, 8, 7, 3, 1]\n"
     ]
    }
   ],
   "source": [
    "goodprimes=[]\n",
    "\n",
    "for i in range(10000,100000):\n",
    "    if (isprime(i)):\n",
    "        figures=[]\n",
    "        for j in str(i):\n",
    "            figures.append(int(j))\n",
    "        if (5==len(set(figures))):    \n",
    "            goodprimes.append(figures)\n",
    "    \n",
    "print(goodprimes[0])\n",
    "print(goodprimes[-1])"
   ]
  },
  {
   "cell_type": "code",
   "execution_count": 8,
   "metadata": {},
   "outputs": [],
   "source": [
    "def score(circle):\n",
    "    setfigures=set(circle)\n",
    "    assert (7==len(setfigures))\n",
    "    assert (7==len(circle))\n",
    "    \n",
    "    filteredprimes=[p for p in goodprimes if 5==sum(p[i] in setfigures for i in range(0,5))]\n",
    "    \n",
    "    \n",
    "    distance=[[min(abs(circle.index(i)-circle.index(j)),7-abs(circle.index(i)-circle.index(j))) for i in circle] for j in circle]\n",
    "    \n",
    "    \n",
    "    res=sum(distance[circle.index(p[k])][circle.index(p[k+1])]   for p in filteredprimes for k in range(0,4))\n",
    "    return res\n",
    "    \n",
    "    \n",
    "    \n",
    "    "
   ]
  },
  {
   "cell_type": "code",
   "execution_count": 9,
   "metadata": {},
   "outputs": [
    {
     "name": "stdout",
     "output_type": "stream",
     "text": [
      "3051\n"
     ]
    }
   ],
   "source": [
    "print(score([1,2,5,4,9,3,7]))"
   ]
  },
  {
   "cell_type": "code",
   "execution_count": 10,
   "metadata": {
    "scrolled": true
   },
   "outputs": [
    {
     "name": "stdout",
     "output_type": "stream",
     "text": [
      "min score =  1000000\n",
      "max score =  1154\n",
      "min score =  1154\n",
      "max score =  1154\n",
      "min score =  1154\n",
      "max score =  1719\n",
      "min score =  1080\n",
      "max score =  1719\n",
      "min score =  1080\n",
      "max score =  1739\n",
      "min score =  1080\n",
      "max score =  1821\n",
      "min score =  1080\n",
      "max score =  1849\n",
      "min score =  1080\n",
      "max score =  2461\n",
      "min score =  1080\n",
      "max score =  2467\n",
      "min score =  1075\n",
      "max score =  2467\n",
      "min score =  1066\n",
      "max score =  2467\n",
      "min score =  1066\n",
      "max score =  2495\n",
      "min score =  1066\n",
      "max score =  2513\n",
      "min score =  1066\n",
      "max score =  2525\n",
      "min score =  473\n",
      "max score =  2525\n",
      "min score =  461\n",
      "max score =  2525\n",
      "min score =  453\n",
      "max score =  2525\n",
      "min score =  452\n",
      "max score =  2525\n",
      "min score =  452\n",
      "max score =  2536\n",
      "min score =  451\n",
      "max score =  2536\n",
      "min score =  450\n",
      "max score =  2536\n",
      "min score =  446\n",
      "max score =  2536\n",
      "min score =  446\n",
      "max score =  2538\n",
      "min score =  446\n",
      "max score =  2545\n",
      "min score =  446\n",
      "max score =  2554\n",
      "min score =  446\n",
      "max score =  2938\n",
      "min score =  446\n",
      "max score =  2946\n",
      "min score =  446\n",
      "max score =  2958\n",
      "min score =  446\n",
      "max score =  2964\n",
      "min score =  446\n",
      "max score =  2993\n",
      "min score =  446\n",
      "max score =  3001\n",
      "min score =  446\n",
      "max score =  3005\n",
      "min score =  446\n",
      "max score =  3022\n",
      "min score =  446\n",
      "max score =  3037\n",
      "min score =  446\n",
      "max score =  3050\n",
      "min score =  446\n",
      "max score =  3051\n"
     ]
    }
   ],
   "source": [
    "minscore=1000000\n",
    "maxscore=0\n",
    "thescore=0\n",
    "minc=[]\n",
    "maxc=[]\n",
    "\n",
    "#no need to go further since 7 figures so the smallest one cannot be 4\n",
    "for i in range(0,4000000):\n",
    "    \n",
    "    figures=[]\n",
    "    if (i<1000000):\n",
    "        figures.append(0)\n",
    "    for j in str(i):\n",
    "        figures.append(int(j))\n",
    "    #7 figures and break symetry    \n",
    "    if (7==len(set(figures))) and (figures[0]==min(figures) and (figures[6]>=figures[2])):\n",
    "        thescore=score(figures)\n",
    "        if (thescore>maxscore):\n",
    "            maxscore=thescore\n",
    "            maxc=figures\n",
    "            print(\"min score = \",minscore)\n",
    "            print(\"max score = \",maxscore)\n",
    "        if (thescore<minscore):\n",
    "            minscore=thescore\n",
    "            minc=figures\n",
    "            print(\"min score = \",minscore)\n",
    "            print(\"max score = \",maxscore)\n",
    "            \n",
    "          \n",
    "            "
   ]
  },
  {
   "cell_type": "code",
   "execution_count": 11,
   "metadata": {},
   "outputs": [
    {
     "name": "stdout",
     "output_type": "stream",
     "text": [
      "minc= [0, 1, 4, 5, 8, 2, 6]  min score =  446\n",
      "maxc= [1, 2, 5, 4, 9, 3, 7]  max score =  3051\n"
     ]
    }
   ],
   "source": [
    "#display result\n",
    "\n",
    "print(\"minc=\",minc,\" min score = \",minscore)\n",
    "print(\"maxc=\",maxc,\" max score = \",maxscore)  "
   ]
  },
  {
   "cell_type": "code",
   "execution_count": null,
   "metadata": {},
   "outputs": [],
   "source": []
  }
 ],
 "metadata": {
  "kernelspec": {
   "display_name": "Python 3.8",
   "language": "python",
   "name": "python3"
  },
  "language_info": {
   "codemirror_mode": {
    "name": "ipython",
    "version": 3
   },
   "file_extension": ".py",
   "mimetype": "text/x-python",
   "name": "python",
   "nbconvert_exporter": "python",
   "pygments_lexer": "ipython3",
   "version": "3.8.12"
  }
 },
 "nbformat": 4,
 "nbformat_minor": 1
}
